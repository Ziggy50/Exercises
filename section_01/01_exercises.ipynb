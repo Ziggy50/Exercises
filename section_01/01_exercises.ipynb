{
  "cells": [
    {
      "cell_type": "markdown",
      "metadata": {
        "id": "dtGf9svQhiyp"
      },
      "source": [
        "#### <center>Intermediate Python and Software Enginnering</center>\n",
        "\n",
        "\n",
        "## <center>Section 01 - Excercises</center>\n",
        "\n",
        "\n",
        "### <center>Innovation Scholars Programme</center>\n",
        "### <center>King's College London, Medical Research Council and UKRI <center>"
      ]
    },
    {
      "cell_type": "markdown",
      "metadata": {
        "id": "ZBUTFJslhiyr"
      },
      "source": [
        "# Exercises\n",
        "\n",
        "The purpose of this notebook is to provide exercises for the concepts discussed in the introduction lecture. Below will be a number of cells with comments describing what code needs to be provided or other instructions."
      ]
    },
    {
      "cell_type": "markdown",
      "metadata": {
        "id": "8tlbUbRkhiys"
      },
      "source": [
        "---\n",
        "\n",
        "## Data types"
      ]
    },
    {
      "cell_type": "markdown",
      "metadata": {
        "id": "vZi9ViQOhiys"
      },
      "source": [
        "The first concepts we discussed were types:"
      ]
    },
    {
      "cell_type": "code",
      "execution_count": 5,
      "metadata": {
        "id": "0mWOT4Gchiys",
        "outputId": "a22576e0-cb88-4e5d-b9d8-13add81d85c7",
        "colab": {
          "base_uri": "https://localhost:8080/"
        }
      },
      "outputs": [
        {
          "output_type": "stream",
          "name": "stdout",
          "text": [
            "42\n"
          ]
        }
      ],
      "source": [
        "val = 42\n",
        "print(val)"
      ]
    },
    {
      "cell_type": "markdown",
      "metadata": {
        "id": "rXjeVJRahiyu"
      },
      "source": [
        "The integer value `42` is numerically equivalent to the floating point value is represented as a different type. The type names `int` and `float` can be used to convert between types:"
      ]
    },
    {
      "cell_type": "code",
      "execution_count": null,
      "metadata": {
        "id": "-v818lcKhiyu"
      },
      "outputs": [],
      "source": [
        "fval=float(val)\n",
        "print(val,fval)"
      ]
    },
    {
      "cell_type": "markdown",
      "metadata": {
        "id": "4_VDUu0Nhiyu"
      },
      "source": [
        "The `type` function can be used to query the type of objects:"
      ]
    },
    {
      "cell_type": "code",
      "execution_count": null,
      "metadata": {
        "id": "1dSJVg-Bhiyv"
      },
      "outputs": [],
      "source": [
        "print(type(val),type(fval))"
      ]
    },
    {
      "cell_type": "markdown",
      "metadata": {
        "id": "A-33JVUQhiyv"
      },
      "source": [
        "The type names `int`, `float`, `str`, and others can be used to convert between values:"
      ]
    },
    {
      "cell_type": "code",
      "execution_count": null,
      "metadata": {
        "id": "A-_HfNRNhiyv"
      },
      "outputs": [],
      "source": [
        "# replace None with the string representation of `a` and assign a variable a\n",
        "astr = 'None'\n",
        "\n",
        "print(astr,type(astr),val==astr)"
      ]
    },
    {
      "cell_type": "markdown",
      "metadata": {
        "id": "P3ybAMKahiyw"
      },
      "source": [
        "### Exercise 1\n",
        "\n",
        "As mentioned all datatypes are objects and as such can have associated functions.\n",
        "\n",
        "Using the `print(dir(dtype))` command, e.g. `print(dir('Hello'))`, you can obtain all available function for a give data type (`dtype`). Ignore all functions starting with `__` (double underscore).\n",
        "\n",
        "Find the functions that enables you to:\n",
        "* Return the number of bits required to store a given int,\n",
        "* Check if the value stored in a float is an integer value,\n",
        "* Return a lower case, upper case or capitalised version of an input string,\n",
        "* Display the index of the first and last occurence of a character within a string,\n",
        "* Use the join() function to add a ',' separtor between each character of a string.\n",
        "* Display the real and imaginary part of the complex number `3+1j`\n",
        "\n",
        "\n",
        "Write all your functions in the code box below:"
      ]
    },
    {
      "cell_type": "code",
      "execution_count": null,
      "metadata": {
        "id": "luxaZgo-hiyw"
      },
      "outputs": [],
      "source": [
        "# your code here\n",
        "print()"
      ]
    },
    {
      "cell_type": "markdown",
      "metadata": {
        "id": "ErVDWI93hiyw"
      },
      "source": [
        "---\n",
        "\n",
        "## Operator"
      ]
    },
    {
      "cell_type": "markdown",
      "metadata": {
        "id": "iv4vR_DWhiyw"
      },
      "source": [
        "How these different types produce different results when applied to numeric operators is important to understand.\n",
        "\n",
        "### Exercise 2:\n",
        "Assign integer and float values in different combinations to `a` and `b` to see what the `+` operator does:"
      ]
    },
    {
      "cell_type": "code",
      "execution_count": null,
      "metadata": {
        "id": "LyZBU2i4hiyw"
      },
      "outputs": [],
      "source": [
        "# replace None with integer or float values\n",
        "a = None\n",
        "b = None\n",
        "\n",
        "print(a+b,type(a),type(b),type(a+b))"
      ]
    },
    {
      "cell_type": "markdown",
      "metadata": {
        "id": "IGr2gF35hiyw"
      },
      "source": [
        "Operators are provided for mathematics (`+ - * / // %`), comparison (`== != <= >= < >`) and others.\n",
        "\n",
        "### Exercise 3:\n",
        "Use operators to print out the product and ratio of `a` to `b` with different values in the cell below:"
      ]
    },
    {
      "cell_type": "code",
      "execution_count": null,
      "metadata": {
        "id": "XcL8uZ21hiyw"
      },
      "outputs": [],
      "source": [
        "# your code here"
      ]
    },
    {
      "cell_type": "markdown",
      "metadata": {
        "id": "06HwFfKYhiyx"
      },
      "source": [
        "### Exercise 4:\n",
        "Use an operator to increment by 1 the value of `a` and then print it.\n",
        "Then use another operator to double the value of `b` and print it, and finally compare `a` and `b`.\n",
        "Use the shortest statements possible in these cases."
      ]
    },
    {
      "cell_type": "code",
      "execution_count": null,
      "metadata": {
        "id": "0iuPOYfNhiyx"
      },
      "outputs": [],
      "source": [
        "a = 3\n",
        "b = 2.3\n",
        "\n",
        "# Use an operator to increment by 1 the value of `a` and then print it.\n",
        "\n",
        "print(a)\n",
        "\n",
        "# Use an operator to double the value of `b` and then print it\n",
        "\n",
        "print(b)\n",
        "\n",
        "# Compare both values and return `True` if `a` is larger than `b`\n",
        "print()"
      ]
    },
    {
      "cell_type": "markdown",
      "metadata": {
        "id": "BKHpsHSFhiyx"
      },
      "source": [
        "---\n",
        "## Data Structures / Data Containers"
      ]
    },
    {
      "cell_type": "markdown",
      "metadata": {
        "id": "j7YgNMZQhiyx"
      },
      "source": [
        "We construct lists with the `list` operator or `[]` syntax. Similarly tuple can be constructed with `tuple` or `()`.\n",
        "\n",
        "### Exercise 5:\n",
        "Add a name to the end of the list using `append()` then print the 0th element:"
      ]
    },
    {
      "cell_type": "code",
      "execution_count": null,
      "metadata": {
        "id": "jmVmM69lhiyx"
      },
      "outputs": [],
      "source": [
        "names = ['John','Graham']\n",
        "\n",
        "print(names)\n",
        "\n",
        "print()  # print the 0'th element of names"
      ]
    },
    {
      "cell_type": "markdown",
      "metadata": {
        "id": "aVuqD9fzhiyx"
      },
      "source": [
        "Now do the equivalent operation with `names` as a tuple:"
      ]
    },
    {
      "cell_type": "code",
      "execution_count": null,
      "metadata": {
        "id": "u6yyxjKAhiyx"
      },
      "outputs": [],
      "source": [
        "names = ('John','Graham') # can't modify tuples\n",
        "\n",
        "# newnames=# add a name to names by creating a new tuple\n",
        "print(newnames)"
      ]
    },
    {
      "cell_type": "markdown",
      "metadata": {
        "id": "vSxLMpF2hiyy"
      },
      "source": [
        "### Exercise 6:\n",
        "\n",
        "List and tuples also have member functions. Address the following two code blocks' questions using such functions."
      ]
    },
    {
      "cell_type": "code",
      "execution_count": null,
      "metadata": {
        "id": "mC-MpRtEhiyy"
      },
      "outputs": [],
      "source": [
        "names = ['John', 'Ben', 'Graham', 'Peter', 'Ben']\n",
        "\n",
        "# Print the same list in reverse order\n",
        "\n",
        "print(names)\n",
        "\n",
        "# Add your name at the beginning of the list\n",
        "\n",
        "print(names)\n",
        "\n",
        "# Add your name at the end of the list\n",
        "\n",
        "print(names)\n",
        "\n",
        "# Remove the second occurence of `Ben`\n",
        "\n",
        "print(names)\n",
        "\n",
        "# Remove the last name from the list\n",
        "\n",
        "print(names)"
      ]
    },
    {
      "cell_type": "code",
      "execution_count": null,
      "metadata": {
        "id": "bEspi4A4hiyy"
      },
      "outputs": [],
      "source": [
        "names = ('John', 'Ben', 'Graham', 'Peter', 'Ben')\n",
        "occurence = 'None'# Use a member function of tuple to return the number of times `Ben` appears\n",
        "print(occurence)"
      ]
    },
    {
      "cell_type": "markdown",
      "metadata": {
        "id": "exWzFNqihiyy"
      },
      "source": [
        "### Exercise 7:\n",
        "A dictionary can be used to store the number of student with a given name in a class:"
      ]
    },
    {
      "cell_type": "code",
      "execution_count": null,
      "metadata": {
        "id": "UAQkCbKFhiyy"
      },
      "outputs": [],
      "source": [
        "names = {'John': 1, 'Graham': 1, 'Peter': 1, 'Ben': 2}\n",
        "print(names)"
      ]
    },
    {
      "cell_type": "markdown",
      "metadata": {
        "id": "pZ7MMnFghiyy"
      },
      "source": [
        "Write code to implement the following:"
      ]
    },
    {
      "cell_type": "code",
      "execution_count": null,
      "metadata": {
        "id": "dMwnV3Vfhiyy"
      },
      "outputs": [],
      "source": [
        "# Print the number of student called `Ben`\n",
        "\n",
        "print()"
      ]
    },
    {
      "cell_type": "code",
      "execution_count": null,
      "metadata": {
        "id": "dAxEp8A1hiyz"
      },
      "outputs": [],
      "source": [
        "# Add a new student name\n",
        "\n",
        "print(names)"
      ]
    },
    {
      "cell_type": "code",
      "execution_count": null,
      "metadata": {
        "id": "l0zqPLPMhiyz"
      },
      "outputs": [],
      "source": [
        "# Increment the number of student called 'Peter'\n",
        "\n",
        "print(names)"
      ]
    },
    {
      "cell_type": "code",
      "execution_count": null,
      "metadata": {
        "id": "F7IxsEtXhiyz"
      },
      "outputs": [],
      "source": [
        "# Display all the names (keys) stored in the dictionary\n",
        "\n",
        "print()"
      ]
    },
    {
      "cell_type": "markdown",
      "metadata": {
        "id": "jZ3UaJTchiyz"
      },
      "source": [
        "---\n",
        "## Modules"
      ]
    },
    {
      "cell_type": "markdown",
      "metadata": {
        "id": "RCy4dyNFhiyz"
      },
      "source": [
        "* \"NumPy is a library for the Python programming language, adding support for large, multi-dimensional arrays and matrices, along with a large collection of high-level mathematical functions to operate on these arrays.\"\n",
        "\n",
        "\n",
        "* \"Matplotlib is a plotting library for the Python programming language and its numerical mathematics extension NumPy. [...]\"\n",
        "\n",
        "In order to use non built-in libraries, you need to import them and have the opportunity to create alias names, such as:"
      ]
    },
    {
      "cell_type": "code",
      "execution_count": null,
      "metadata": {
        "id": "bp5r1hG_hiyz"
      },
      "outputs": [],
      "source": [
        "import numpy # simple import\n",
        "print(numpy.random.rand())\n",
        "\n",
        "import numpy as np # rename for ease\n",
        "print(np.random.rand())\n",
        "\n",
        "import numpy.random as np_rand # even more easy\n",
        "print(np_rand.rand())"
      ]
    },
    {
      "cell_type": "markdown",
      "metadata": {
        "id": "COSW-ztZhiyz"
      },
      "source": [
        "Packages like NumPy have their own datatype, typical example being `numpy.ndarray`, which encodes a n-Dimentionnal array and can be used in mathematical function, such as:"
      ]
    },
    {
      "cell_type": "code",
      "execution_count": null,
      "metadata": {
        "id": "YJ4qOVmhhiy0"
      },
      "outputs": [],
      "source": [
        "import numpy as np\n",
        "array = np.array([1, 2, 3, 4, 5, 6])\n",
        "print(array)\n",
        "cos_array = np.cos(array)\n",
        "print(cos_array)"
      ]
    },
    {
      "cell_type": "markdown",
      "metadata": {
        "id": "jgux2hyUhiy0"
      },
      "source": [
        "The `numpy.arange` function enables to create an array, given a starting value, a limit and an increment:"
      ]
    },
    {
      "cell_type": "code",
      "execution_count": null,
      "metadata": {
        "id": "rZspoAJ4hiy0"
      },
      "outputs": [],
      "source": [
        "import numpy as np\n",
        "\n",
        "array = np.arange(-5, 5, 1)\n",
        "print(array)"
      ]
    },
    {
      "cell_type": "markdown",
      "metadata": {
        "id": "SOeHEJr1hiy0"
      },
      "source": [
        "Matplotlib also needs to be imported"
      ]
    },
    {
      "cell_type": "code",
      "execution_count": null,
      "metadata": {
        "id": "xp5LV9wXhiy0"
      },
      "outputs": [],
      "source": [
        "import matplotlib.pyplot as plt\n",
        "import numpy as np\n",
        "\n",
        "# Ensures the plot is in the notebook\n",
        "%matplotlib inline\n",
        "\n",
        "x = np.array([1, 2, 3, 4, 5, 6])\n",
        "y = x / 2\n",
        "plt.plot(x, y, 'x')"
      ]
    },
    {
      "cell_type": "markdown",
      "metadata": {
        "id": "MXWCH895hiy0"
      },
      "source": [
        "### Exercise 8:\n",
        "Write a code block which generates a plot of a cosine function in blue and sine function in red in the same figure. Both functions should be sampled between -2 pi and 2 pi. Numpy provides functions for sine and cosine and has constants for pi."
      ]
    },
    {
      "cell_type": "code",
      "execution_count": null,
      "metadata": {
        "id": "EZMD0_8ohiy1"
      },
      "outputs": [],
      "source": []
    },
    {
      "cell_type": "markdown",
      "metadata": {
        "id": "Ueuk6uLOhiy1"
      },
      "source": [
        "---\n",
        "## Control Statements"
      ]
    },
    {
      "cell_type": "markdown",
      "metadata": {
        "id": "vVxajr5Hhiy1"
      },
      "source": [
        "Conditionals in Python take the form of `if-elif-else` code blocks. The condition checks to see if the given expression evaluates to `True` and executes the block if this is so, otherwise it checks the next `elif` block or `else` block.\n",
        "\n",
        "### Exercise 9:\n",
        "Fill in the below statements to practice using condition and loop statements."
      ]
    },
    {
      "cell_type": "code",
      "execution_count": null,
      "metadata": {
        "id": "ItMyGdruhiy1"
      },
      "outputs": [],
      "source": [
        "number = 3.14159 # try other values\n",
        "\n",
        "# use an if-else block to print \"Yes\" if `number` is greater than 0 otherwise \"No\""
      ]
    },
    {
      "cell_type": "markdown",
      "metadata": {
        "id": "R3wlOGqAhiy1"
      },
      "source": [
        "The `for` loop can be used to iterate over the members of a collection such as a list or tuple."
      ]
    },
    {
      "cell_type": "code",
      "execution_count": null,
      "metadata": {
        "id": "QMUQ-j4Shiy1"
      },
      "outputs": [],
      "source": [
        "numbers = [411, 131, 272, 737, 129, 591, 943, 801, 62, 357, 199, 814, 136, 523, 556, 55, 860, 943, 411, 760]\n",
        "\n",
        "# write a loop to print the even numbers from `numbers` (% is remainder operator)"
      ]
    },
    {
      "cell_type": "markdown",
      "metadata": {
        "id": "sy9eTW2uhiy1"
      },
      "source": [
        "---\n",
        "## Functions"
      ]
    },
    {
      "cell_type": "markdown",
      "metadata": {
        "id": "pWVoIf5-hiy1"
      },
      "source": [
        "Routines are defined starting with the `def` keyword, the name of the routine, its arguments, then its body.\n",
        "\n",
        "### Exercise 10:\n",
        "Provide function definitions below to implement the requested behaviour:"
      ]
    },
    {
      "cell_type": "code",
      "execution_count": null,
      "metadata": {
        "id": "0AJ2imRnhiy1"
      },
      "outputs": [],
      "source": [
        "# define a routine called `is_even` which returns whether a given number is even or not\n",
        "\n",
        "print(is_even(42),is_even(numbers[11]),is_even(numbers[-1])) # -1 is the last element, -2 second last, etc."
      ]
    },
    {
      "cell_type": "code",
      "execution_count": null,
      "metadata": {
        "id": "yPRSDT8Fhiy2"
      },
      "outputs": [],
      "source": [
        "# a list comprehension is an expression which builds a list using an internal for loop\n",
        "print([v for v in numbers if isEven(v)]) # print all the even numbers\n",
        "\n",
        "# define a function `get_evens` to do the same thing for a given input list\n",
        "\n",
        "print(get_evens(numbers))"
      ]
    },
    {
      "cell_type": "markdown",
      "metadata": {
        "id": "0qsRQ_9Khiy2"
      },
      "source": [
        "---\n",
        "## Exceptions"
      ]
    },
    {
      "cell_type": "markdown",
      "metadata": {
        "id": "xDxx66mThiy2"
      },
      "source": [
        "### Exercise 11:\n",
        "The following code fails to run, add the `try` and `except` keywords to capture this specific error and produce a meaningful error message instead of an exception. The error type is mentioned in the error message."
      ]
    },
    {
      "cell_type": "code",
      "execution_count": null,
      "metadata": {
        "id": "PkPvKSvshiy2"
      },
      "outputs": [],
      "source": [
        "def square(v):\n",
        "    return v**2\n",
        "\n",
        "values = [1, 2, 3, 4, 5, 6]\n",
        "for i in range(10):\n",
        "    print(square(values[i]))"
      ]
    },
    {
      "cell_type": "markdown",
      "metadata": {
        "id": "29E1GOEahiy2"
      },
      "source": [
        "### Exercise 11:\n",
        "Modify the code below so that it handles the different arguments given in the print statements and detects any potential error.\n",
        "Display different messages based on the different conditions.\n",
        "In some cases, it should raise an exception if unexpected values are given and some others it should catch an error."
      ]
    },
    {
      "cell_type": "code",
      "execution_count": null,
      "metadata": {
        "id": "CT29TEmphiy2"
      },
      "outputs": [],
      "source": [
        "import numpy as np\n",
        "def compute_circle_area(r):\n",
        "    a = np.pi * r * r\n",
        "    return a\n",
        "\n",
        "print(compute_circle_area(2.1))\n",
        "print(compute_circle_area(2+1j))\n",
        "print(compute_circle_area(-2.1))\n",
        "print(compute_circle_area('radius'))"
      ]
    },
    {
      "cell_type": "markdown",
      "metadata": {
        "id": "nMSHf5jXhiy2"
      },
      "source": [
        "---\n",
        "## Objects"
      ]
    },
    {
      "cell_type": "markdown",
      "metadata": {
        "id": "obzerx8hhiy2"
      },
      "source": [
        "Recall the `Dimension` type from the lecture notes:"
      ]
    },
    {
      "cell_type": "code",
      "execution_count": null,
      "metadata": {
        "id": "3r2R8o8ehiy3"
      },
      "outputs": [],
      "source": [
        "class Dimension:\n",
        "    def __init__(self, width, height): # constructor for object\n",
        "        self.width = width # declare members by assignment\n",
        "        self.height = height\n",
        "\n",
        "    def measure(self): # method of class\n",
        "        return self.width * self.height"
      ]
    },
    {
      "cell_type": "markdown",
      "metadata": {
        "id": "8X7SxjFehiy3"
      },
      "source": [
        "### Exercise 12:\n",
        "Define a subclass of `Dimension` called `Dimension3` which adds a third dimension member `depth` and overrides `measure()` appropriately:"
      ]
    },
    {
      "cell_type": "code",
      "execution_count": null,
      "metadata": {
        "id": "Hgufeu9Xhiy3"
      },
      "outputs": [],
      "source": []
    },
    {
      "cell_type": "code",
      "execution_count": null,
      "metadata": {
        "id": "NVHYXPO_hiy3"
      },
      "outputs": [],
      "source": [
        "d=Dimension3(10,12,22)\n",
        "\n",
        "print(d,d.depth,d.measure())\n",
        "\n",
        "# assert is used to assert some property of the program is True\n",
        "assert d.measure() == (10*12*22)"
      ]
    },
    {
      "cell_type": "markdown",
      "metadata": {
        "id": "8asdUAtmhiy3"
      },
      "source": [
        "---\n",
        "## Further Exercises\n"
      ]
    },
    {
      "cell_type": "markdown",
      "metadata": {
        "id": "Duw3fB65hiy3"
      },
      "source": [
        "### Exercise 13:\n",
        "Count the number of times each character appears in the following sentence ignoring case.Present the results in alphabetical order or ordered by frequency.\n",
        "\n",
        "Consider that there are a number of different ways to do this, that vary by iteration style and the use of different data structures. See if you can find at least two different ways!"
      ]
    },
    {
      "cell_type": "code",
      "execution_count": null,
      "metadata": {
        "id": "LN7KlWaxhiy3"
      },
      "outputs": [],
      "source": [
        "# letter frequency: Display the number of time each letter appears in the following string\n",
        "# Counting letters\n",
        "s = (\"Peter Piper picked a peck of pickled peppers. If Peter Piper picked a \"\n",
        "     \"Peck of pickled peppers, where's the peck of pickled peppers Peter \"\n",
        "     \"Piper picked?\")\n",
        "print(s)"
      ]
    },
    {
      "cell_type": "markdown",
      "metadata": {
        "id": "_ZLCLy5Chiy4"
      },
      "source": [
        "### Exercise 14:\n",
        "FizzBuzz: define a function taking a value and for every number between 0 and that value return a list containing:\n",
        "* If the value is divisible by 3, \"fizz\"\n",
        "* If the value is divisible by 5, \"buzz\"\n",
        "* If the value is divisible by both 3 and 5, \"fizzbuzz\"\n",
        "* Otherwise, output the number\n",
        "\n",
        "Bonus prize! Write your solution so that it can be given an ordered list of numbers and words - e.g. `[(3, 'fizz'), (5, 'buzz'), (4, '')]`"
      ]
    },
    {
      "cell_type": "code",
      "execution_count": null,
      "metadata": {
        "id": "i3nSsmi1hiy4"
      },
      "outputs": [],
      "source": [
        "def fizzbuzz(count):\n",
        "    result = list()\n",
        "\n",
        "    # your code here\n",
        "\n",
        "    return result"
      ]
    },
    {
      "cell_type": "markdown",
      "metadata": {
        "id": "JbukBd7Hhiy4"
      },
      "source": [
        "### Exercise 15:\n",
        "As seen in the previous excercises session, the matplotlib module can be imported to display figure. Use the `subplot()` to display both functions side by side. Refer to [the documentation](https://matplotlib.org/3.2.1/api/_as_gen/matplotlib.pyplot.subplot.html) for details."
      ]
    },
    {
      "cell_type": "code",
      "execution_count": null,
      "metadata": {
        "id": "yi5PlyZ9hiy4"
      },
      "outputs": [],
      "source": [
        "import matplotlib.pyplot as plt\n",
        "import numpy as np\n",
        "\n",
        "# Ensures the plot is in the notebook\n",
        "%matplotlib inline\n",
        "\n",
        "x = np.arange(-3*np.pi, 3*np.pi, 0.1)\n",
        "plt.plot(x, np.cos(x), 'b', label='Sin()')\n",
        "plt.plot(x, np.sin(x), 'r', label='Cos()')\n",
        "plt.xlabel('x values')\n",
        "plt.ylabel('y values')\n",
        "plt.xlim(x[0], x[-1]+5)\n",
        "plt.legend(loc='upper right')"
      ]
    },
    {
      "cell_type": "markdown",
      "metadata": {
        "id": "2WNqyOcKhiy4"
      },
      "source": [
        "### Exercise 16:\n",
        "You previously computed the occurance of each letter in a given sentence. Use the `matplotlib.pyplot.bar()` function to display a bar chart with the corresponding values, by modifying the code below to use container of any length. [Bar documentation here](https://matplotlib.org/3.2.1/api/_as_gen/matplotlib.pyplot.bar.html)."
      ]
    },
    {
      "cell_type": "code",
      "execution_count": null,
      "metadata": {
        "id": "DWhh_NHMhiy4"
      },
      "outputs": [],
      "source": [
        "import matplotlib.pyplot as plt\n",
        "import numpy as np\n",
        "\n",
        "# Ensures the plot is in the notebook\n",
        "%matplotlib inline\n",
        "\n",
        "# example data and setup, replace this with your data\n",
        "d = {'a': 2, 'b':3}\n",
        "plt.bar((0, 1), (d['a'], d['b']), align='center')\n",
        "plt.xticks((0, 1), ('a', 'b'))"
      ]
    },
    {
      "cell_type": "code",
      "execution_count": null,
      "metadata": {
        "id": "tc5Y4-ckhiy5"
      },
      "outputs": [],
      "source": []
    }
  ],
  "metadata": {
    "kernelspec": {
      "display_name": "Python 3 (ipykernel)",
      "language": "python",
      "name": "python3"
    },
    "language_info": {
      "codemirror_mode": {
        "name": "ipython",
        "version": 3
      },
      "file_extension": ".py",
      "mimetype": "text/x-python",
      "name": "python",
      "nbconvert_exporter": "python",
      "pygments_lexer": "ipython3",
      "version": "3.10.13"
    },
    "colab": {
      "provenance": []
    }
  },
  "nbformat": 4,
  "nbformat_minor": 0
}